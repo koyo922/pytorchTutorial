{
 "cells": [
  {
   "cell_type": "code",
   "execution_count": 7,
   "metadata": {},
   "outputs": [
    {
     "name": "stdout",
     "output_type": "stream",
     "text": [
      "tensor([[0.9908, 0.8583, 0.3776],\n",
      "        [0.5151, 0.8588, 0.9503],\n",
      "        [0.9388, 0.7082, 0.2061],\n",
      "        [0.3103, 0.8024, 0.3804],\n",
      "        [0.2409, 0.3464, 0.4631]])\n"
     ]
    }
   ],
   "source": [
    "import torch\n",
    "x = torch.rand(5, 3)\n",
    "print(x)"
   ]
  },
  {
   "cell_type": "code",
   "execution_count": 8,
   "metadata": {},
   "outputs": [
    {
     "data": {
      "text/plain": [
       "'Tesla V100-SXM2-32GB'"
      ]
     },
     "execution_count": 8,
     "metadata": {},
     "output_type": "execute_result"
    }
   ],
   "source": [
    "torch.cuda.get_device_name()"
   ]
  }
 ],
 "metadata": {
  "fileId": "a71e63fc-0a04-47a9-8618-f206c5bbfbdd",
  "filePath": "/mnt/bn/tob-lq/qianweishuo/pytorchTutorial/notebooks/01_Installation.ipynb",
  "kernelspec": {
   "display_name": "Python 3 (ipykernel)",
   "language": "python",
   "name": "python3"
  }
 },
 "nbformat": 4,
 "nbformat_minor": 2
}

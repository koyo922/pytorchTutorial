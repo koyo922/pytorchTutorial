{
 "cells": [
  {
   "cell_type": "markdown",
   "metadata": {},
   "source": [
    "# chap 13"
   ]
  },
  {
   "cell_type": "code",
   "execution_count": 1,
   "metadata": {},
   "outputs": [
    {
     "name": "stdout",
     "output_type": "stream",
     "text": [
      "Sat Jun 15 22:25:34 2024       \n",
      "+---------------------------------------------------------------------------------------+\n",
      "| NVIDIA-SMI 535.161.08             Driver Version: 535.161.08   CUDA Version: 12.2     |\n",
      "|-----------------------------------------+----------------------+----------------------+\n",
      "| GPU  Name                 Persistence-M | Bus-Id        Disp.A | Volatile Uncorr. ECC |\n",
      "| Fan  Temp   Perf          Pwr:Usage/Cap |         Memory-Usage | GPU-Util  Compute M. |\n",
      "|                                         |                      |               MIG M. |\n",
      "|=========================================+======================+======================|\n",
      "|   0  Tesla V100-SXM2-32GB           On  | 00000000:60:00.0 Off |                    0 |\n",
      "| N/A   48C    P0              78W / 300W |      0MiB / 32768MiB |      0%      Default |\n",
      "|                                         |                      |                  N/A |\n",
      "+-----------------------------------------+----------------------+----------------------+\n",
      "                                                                                         \n",
      "+---------------------------------------------------------------------------------------+\n",
      "| Processes:                                                                            |\n",
      "|  GPU   GI   CI        PID   Type   Process name                            GPU Memory |\n",
      "|        ID   ID                                                             Usage      |\n",
      "|=======================================================================================|\n",
      "|  No running processes found                                                           |\n",
      "+---------------------------------------------------------------------------------------+\n"
     ]
    }
   ],
   "source": [
    "!nvidia-smi"
   ]
  },
  {
   "cell_type": "code",
   "execution_count": 2,
   "metadata": {},
   "outputs": [],
   "source": [
    "import torch\n",
    "import torch.nn as nn\n",
    "import torchvision\n",
    "import torchvision.transforms as transforms\n",
    "import matplotlib.pyplot as plt\n",
    "\n",
    "# Device configuration\n",
    "device = torch.device('cuda' if torch.cuda.is_available() else 'cpu')\n",
    "\n",
    "# Hyper-parameters\n",
    "input_size = 784  # 28x28\n",
    "hidden_size = 500\n",
    "num_classes = 10\n",
    "num_epochs = 2\n",
    "batch_size = 100\n",
    "learning_rate = 0.001"
   ]
  },
  {
   "cell_type": "code",
   "execution_count": 8,
   "metadata": {},
   "outputs": [
    {
     "data": {
      "text/plain": [
       "'/mnt/bn/tob-lq/qianweishuo/pytorchTutorial'"
      ]
     },
     "execution_count": 8,
     "metadata": {},
     "output_type": "execute_result"
    }
   ],
   "source": [
    "import os\n",
    "\n",
    "os.chdir('/mnt/bn/tob-lq/qianweishuo/pytorchTutorial')\n",
    "os.getcwd()"
   ]
  },
  {
   "cell_type": "code",
   "execution_count": 9,
   "metadata": {},
   "outputs": [
    {
     "data": {
      "image/png": "[encoded data removed]",
      "text/plain": [
       "<Figure size 640x480 with 6 Axes>"
      ]
     },
     "metadata": {},
     "output_type": "display_data"
    }
   ],
   "source": [
    "# MNIST dataset\n",
    "train_dataset = torchvision.datasets.MNIST(root='./data', train=True, transform=transforms.ToTensor(), download=True)\n",
    "test_dataset = torchvision.datasets.MNIST(root='./data', train=False, transform=transforms.ToTensor())\n",
    "\n",
    "# Data loader\n",
    "train_loader = torch.utils.data.DataLoader(dataset=train_dataset, batch_size=batch_size, shuffle=True)\n",
    "test_loader = torch.utils.data.DataLoader(dataset=test_dataset, batch_size=batch_size, shuffle=False)\n",
    "\n",
    "examples = iter(test_loader)\n",
    "example_data, example_targets = next(examples)\n",
    "\n",
    "for i in range(6):\n",
    "    plt.subplot(2, 3, i + 1)\n",
    "    plt.imshow(example_data[i][0], cmap='gray')\n",
    "plt.show()"
   ]
  },
  {
   "cell_type": "code",
   "execution_count": 21,
   "metadata": {},
   "outputs": [],
   "source": [
    "class NeuralNet(nn.Module):\n",
    "    def __init__(self, input_size, hidden_size, num_classes) -> None:\n",
    "        super().__init__()\n",
    "        self.input_size = input_size\n",
    "        self.l1 = nn.Linear(input_size, hidden_size)\n",
    "        self.relu = nn.ReLU()\n",
    "        self.l2 = nn.Linear(hidden_size, num_classes)\n",
    "\n",
    "    def forward(self, x):\n",
    "        hidden = self.relu(self.l1(x))\n",
    "        out_logits = self.l2(hidden)\n",
    "        return out_logits\n",
    "\n",
    "\n",
    "model = NeuralNet(input_size, hidden_size, num_classes).to(device)  # 记得模型也要放GPU\n",
    "criterion = nn.CrossEntropyLoss()\n",
    "optimizer = torch.optim.Adam(params=model.parameters(), lr=learning_rate)"
   ]
  },
  {
   "cell_type": "code",
   "execution_count": 22,
   "metadata": {},
   "outputs": [
    {
     "name": "stdout",
     "output_type": "stream",
     "text": [
      "epoch: 001/2, step: 001/600, loss=2.3144\n",
      "epoch: 001/2, step: 101/600, loss=0.4454\n",
      "epoch: 001/2, step: 201/600, loss=0.2587\n",
      "epoch: 001/2, step: 301/600, loss=0.1195\n",
      "epoch: 001/2, step: 401/600, loss=0.3096\n",
      "epoch: 001/2, step: 501/600, loss=0.2939\n",
      "epoch: 002/2, step: 001/600, loss=0.1365\n",
      "epoch: 002/2, step: 101/600, loss=0.1002\n",
      "epoch: 002/2, step: 201/600, loss=0.1806\n",
      "epoch: 002/2, step: 301/600, loss=0.0945\n",
      "epoch: 002/2, step: 401/600, loss=0.1346\n",
      "epoch: 002/2, step: 501/600, loss=0.0699\n"
     ]
    }
   ],
   "source": [
    "total_steps = len(train_loader)\n",
    "for epoch in range(num_epochs):\n",
    "    for i, (images, labels) in enumerate(train_loader):\n",
    "        y_pred_logits = model(images.view(-1, 28 * 28).to(device))\n",
    "        loss = criterion(y_pred_logits, labels.to(device))\n",
    "        loss.backward()\n",
    "        optimizer.step()\n",
    "        optimizer.zero_grad()\n",
    "        if i % 100 == 0:\n",
    "            print(f'epoch: {epoch+1:03}/{num_epochs}, step: {i+1:03}/{total_steps}, loss={loss:.4f}')"
   ]
  },
  {
   "cell_type": "code",
   "execution_count": 23,
   "metadata": {},
   "outputs": [
    {
     "name": "stdout",
     "output_type": "stream",
     "text": [
      "Accuracy of the network on the 10000 test images: 0.9664\n"
     ]
    }
   ],
   "source": [
    "import numpy as np\n",
    "\n",
    "is_same_list = []\n",
    "with torch.no_grad():\n",
    "    for i, (images, labels) in enumerate(test_loader):\n",
    "        y_pred_test_logits = model(images.view(-1, 28 * 28).to(device))\n",
    "        _, y_pred_test_labels = y_pred_test_logits.max(dim=1)\n",
    "        is_same_list += (y_pred_test_labels.cpu() == labels).numpy().tolist()\n",
    "    acc = np.mean(is_same_list)\n",
    "    print(f'Accuracy of the network on the {len(test_dataset)} test images: {acc:.4f}')"
   ]
  },
  {
   "cell_type": "code",
   "execution_count": 18,
   "metadata": {},
   "outputs": [
    {
     "name": "stdout",
     "output_type": "stream",
     "text": [
      "Figure(640x480)\n",
      "Epoch [1/2], Step [100/600], Loss: 0.3655\n",
      "Epoch [1/2], Step [200/600], Loss: 0.3345\n",
      "Epoch [1/2], Step [300/600], Loss: 0.1710\n",
      "Epoch [1/2], Step [400/600], Loss: 0.2343\n",
      "Epoch [1/2], Step [500/600], Loss: 0.1235\n",
      "Epoch [1/2], Step [600/600], Loss: 0.1988\n",
      "Epoch [2/2], Step [100/600], Loss: 0.1591\n",
      "Epoch [2/2], Step [200/600], Loss: 0.0902\n",
      "Epoch [2/2], Step [300/600], Loss: 0.0925\n",
      "Epoch [2/2], Step [400/600], Loss: 0.1278\n",
      "Epoch [2/2], Step [500/600], Loss: 0.0646\n",
      "Epoch [2/2], Step [600/600], Loss: 0.0340\n",
      "Accuracy of the network on the 10000 test images: 97.05 %\n"
     ]
    }
   ],
   "source": [
    "!python3 ./13_feedforward.py"
   ]
  },
  {
   "cell_type": "markdown",
   "metadata": {},
   "source": [
    "# chap 14"
   ]
  },
  {
   "cell_type": "code",
   "execution_count": 24,
   "metadata": {},
   "outputs": [],
   "source": [
    "import torch\n",
    "import torch.nn as nn\n",
    "import torch.nn.functional as F\n",
    "import torchvision\n",
    "import torchvision.transforms as transforms\n",
    "import matplotlib.pyplot as plt\n",
    "import numpy as np\n",
    "\n",
    "# Device configuration\n",
    "device = torch.device('cuda' if torch.cuda.is_available() else 'cpu')\n",
    "\n",
    "# Hyper-parameters\n",
    "num_epochs = 5\n",
    "batch_size = 4\n",
    "learning_rate = 0.001"
   ]
  },
  {
   "cell_type": "code",
   "execution_count": 25,
   "metadata": {},
   "outputs": [
    {
     "name": "stdout",
     "output_type": "stream",
     "text": [
      "Downloading https://www.cs.toronto.edu/~kriz/cifar-10-python.tar.gz to ./data/cifar-10-python.tar.gz\n"
     ]
    },
    {
     "name": "stderr",
     "output_type": "stream",
     "text": [
      "100%|██████████| 170498071/170498071 [00:18<00:00, 9255362.29it/s]\n"
     ]
    },
    {
     "name": "stdout",
     "output_type": "stream",
     "text": [
      "Extracting ./data/cifar-10-python.tar.gz to ./data\n",
      "Files already downloaded and verified\n"
     ]
    },
    {
     "data": {
      "image/png": "[encoded data removed]",
      "text/plain": [
       "<Figure size 640x480 with 1 Axes>"
      ]
     },
     "metadata": {},
     "output_type": "display_data"
    }
   ],
   "source": [
    "# dataset has PILImage images of range [0, 1].\n",
    "# We transform them to Tensors of normalized range [-1, 1]\n",
    "transform = transforms.Compose([transforms.ToTensor(), transforms.Normalize((0.5, 0.5, 0.5), (0.5, 0.5, 0.5))])\n",
    "\n",
    "# CIFAR10: 60000 32x32 color images in 10 classes, with 6000 images per class\n",
    "train_dataset = torchvision.datasets.CIFAR10(root='./data', train=True, download=True, transform=transform)\n",
    "test_dataset = torchvision.datasets.CIFAR10(root='./data', train=False, download=True, transform=transform)\n",
    "train_loader = torch.utils.data.DataLoader(train_dataset, batch_size=batch_size, shuffle=True)\n",
    "test_loader = torch.utils.data.DataLoader(test_dataset, batch_size=batch_size, shuffle=False)\n",
    "\n",
    "classes = ('plane', 'car', 'bird', 'cat', 'deer', 'dog', 'frog', 'horse', 'ship', 'truck')\n",
    "\n",
    "\n",
    "def imshow(img):\n",
    "    img = img / 2 + 0.5  # unnormalize; -1~1 -> 0~1\n",
    "    npimg = img.numpy()\n",
    "    plt.imshow(np.transpose(npimg, (1, 2, 0)))\n",
    "    plt.show()\n",
    "\n",
    "\n",
    "# get some random training images\n",
    "dataiter = iter(train_loader)\n",
    "images, labels = next(dataiter)\n",
    "\n",
    "# show images\n",
    "imshow(torchvision.utils.make_grid(images))"
   ]
  },
  {
   "cell_type": "code",
   "execution_count": null,
   "metadata": {},
   "outputs": [
    {
     "name": "stdout",
     "output_type": "stream",
     "text": [
      "Files already downloaded and verified\n",
      "Files already downloaded and verified\n",
      "Figure(640x480)\n",
      "Epoch [1/5], Step [2000/12500], Loss: 2.2921\n",
      "Epoch [1/5], Step [4000/12500], Loss: 2.2831\n",
      "Epoch [1/5], Step [6000/12500], Loss: 2.3142\n",
      "Epoch [1/5], Step [8000/12500], Loss: 2.3094\n",
      "Epoch [1/5], Step [10000/12500], Loss: 2.2148\n",
      "Epoch [1/5], Step [12000/12500], Loss: 2.0976\n",
      "Epoch [2/5], Step [2000/12500], Loss: 1.8975\n",
      "Epoch [2/5], Step [4000/12500], Loss: 2.0559\n",
      "Epoch [2/5], Step [6000/12500], Loss: 1.3797\n",
      "Epoch [2/5], Step [8000/12500], Loss: 1.4408\n",
      "Epoch [2/5], Step [10000/12500], Loss: 1.5714\n",
      "Epoch [2/5], Step [12000/12500], Loss: 1.5705\n",
      "Epoch [3/5], Step [2000/12500], Loss: 1.4606\n",
      "Epoch [3/5], Step [4000/12500], Loss: 1.4969\n",
      "Epoch [3/5], Step [6000/12500], Loss: 1.9228\n",
      "Epoch [3/5], Step [8000/12500], Loss: 1.7543\n",
      "Epoch [3/5], Step [10000/12500], Loss: 1.5037\n",
      "Epoch [3/5], Step [12000/12500], Loss: 1.3311\n",
      "Epoch [4/5], Step [2000/12500], Loss: 2.6084\n",
      "Epoch [4/5], Step [4000/12500], Loss: 1.3136\n",
      "Epoch [4/5], Step [6000/12500], Loss: 2.2344\n",
      "Epoch [4/5], Step [8000/12500], Loss: 2.1294\n",
      "Epoch [4/5], Step [10000/12500], Loss: 1.2505\n",
      "Epoch [4/5], Step [12000/12500], Loss: 1.7044\n",
      "Epoch [5/5], Step [2000/12500], Loss: 0.9999\n",
      "Epoch [5/5], Step [4000/12500], Loss: 1.3331\n",
      "Epoch [5/5], Step [6000/12500], Loss: 1.9042\n",
      "Epoch [5/5], Step [8000/12500], Loss: 1.0818\n",
      "Epoch [5/5], Step [10000/12500], Loss: 0.9529\n",
      "Epoch [5/5], Step [12000/12500], Loss: 2.2184\n",
      "Finished Training\n",
      "Accuracy of the network: 48.87 %\n",
      "Accuracy of plane: 66.7 %\n",
      "Accuracy of car: 61.1 %\n",
      "Accuracy of bird: 34.2 %\n",
      "Accuracy of cat: 28.1 %\n",
      "Accuracy of deer: 38.2 %\n",
      "Accuracy of dog: 38.9 %\n",
      "Accuracy of frog: 46.9 %\n",
      "Accuracy of horse: 77.9 %\n",
      "Accuracy of ship: 42.8 %\n",
      "Accuracy of truck: 53.9 %\n"
     ]
    }
   ],
   "source": [
    "!python3 ./14_cnn.py"
   ]
  },
  {
   "cell_type": "code",
   "execution_count": 34,
   "metadata": {},
   "outputs": [],
   "source": [
    "class ConvNet(nn.Module):\n",
    "    def __init__(self) -> None:\n",
    "        super().__init__()\n",
    "        self.conv1 = nn.Conv2d(in_channels=3, out_channels=6, kernel_size=5)\n",
    "        self.pool = nn.MaxPool2d(kernel_size=2, stride=2)\n",
    "        self.conv2 = nn.Conv2d(6, 16, 5)\n",
    "        self.fc1 = nn.Linear(in_features=16 * 5 * 5, out_features=120)\n",
    "        self.fc2 = nn.Linear(in_features=120, out_features=84)\n",
    "        self.fc3 = nn.Linear(in_features=84, out_features=10)\n",
    "\n",
    "    def forward(self, x):\n",
    "        # x.shape = n, 3, 32, 32\n",
    "        x = self.pool(F.relu(self.conv1(x)))  # n, 6, 14, 14\n",
    "        x = self.pool(F.relu(self.conv2(x)))  # n, 16, 5, 5\n",
    "        x = x.view(-1, 16 * 5 * 5)  # n, 400\n",
    "        x = F.relu(self.fc1(x))  # n, 120\n",
    "        x = F.relu(self.fc2(x))  # n, 84\n",
    "        x = self.fc3(x)  # n, 10\n",
    "        return x  # 注意最后返回的是 logits, 无激活\n",
    "\n",
    "\n",
    "model = ConvNet().to(device)\n",
    "criterion = nn.CrossEntropyLoss()\n",
    "optimizer = torch.optim.SGD(params=model.parameters(), lr=learning_rate)"
   ]
  },
  {
   "cell_type": "code",
   "execution_count": 36,
   "metadata": {},
   "outputs": [
    {
     "name": "stdout",
     "output_type": "stream",
     "text": [
      "epoch: 1/5, step: 2000/12500, loss=2.2147\n",
      "epoch: 1/5, step: 4000/12500, loss=2.0189\n",
      "epoch: 1/5, step: 6000/12500, loss=1.8631\n",
      "epoch: 1/5, step: 8000/12500, loss=2.2838\n",
      "epoch: 1/5, step: 10000/12500, loss=1.2833\n",
      "epoch: 1/5, step: 12000/12500, loss=1.4194\n",
      "epoch: 2/5, step: 2000/12500, loss=2.0785\n",
      "epoch: 2/5, step: 4000/12500, loss=1.6651\n",
      "epoch: 2/5, step: 6000/12500, loss=1.3085\n",
      "epoch: 2/5, step: 8000/12500, loss=1.4190\n",
      "epoch: 2/5, step: 10000/12500, loss=2.9948\n",
      "epoch: 2/5, step: 12000/12500, loss=1.3528\n",
      "epoch: 3/5, step: 2000/12500, loss=1.8644\n",
      "epoch: 3/5, step: 4000/12500, loss=1.2737\n",
      "epoch: 3/5, step: 6000/12500, loss=2.0428\n",
      "epoch: 3/5, step: 8000/12500, loss=1.4947\n",
      "epoch: 3/5, step: 10000/12500, loss=1.2659\n",
      "epoch: 3/5, step: 12000/12500, loss=1.3423\n",
      "epoch: 4/5, step: 2000/12500, loss=0.7756\n",
      "epoch: 4/5, step: 4000/12500, loss=1.4120\n",
      "epoch: 4/5, step: 6000/12500, loss=1.0420\n",
      "epoch: 4/5, step: 8000/12500, loss=1.7986\n",
      "epoch: 4/5, step: 10000/12500, loss=2.1456\n",
      "epoch: 4/5, step: 12000/12500, loss=1.3994\n",
      "epoch: 5/5, step: 2000/12500, loss=0.7189\n",
      "epoch: 5/5, step: 4000/12500, loss=1.0121\n",
      "epoch: 5/5, step: 6000/12500, loss=1.0446\n",
      "epoch: 5/5, step: 8000/12500, loss=0.7227\n",
      "epoch: 5/5, step: 10000/12500, loss=0.6633\n",
      "epoch: 5/5, step: 12000/12500, loss=0.8047\n"
     ]
    }
   ],
   "source": [
    "total_steps = len(train_loader)\n",
    "for epoch in range(num_epochs):\n",
    "    for i, (images, labels) in enumerate(train_loader):\n",
    "        y_pred_logits = model(images.to(device))\n",
    "        loss = criterion(y_pred_logits, labels.to(device))\n",
    "        loss.backward()\n",
    "        optimizer.step()\n",
    "        optimizer.zero_grad()\n",
    "        if (i+1) % 2000 == 0:  # 注意 loss后面要写.item()\n",
    "            print(f'epoch: {epoch+1}/{num_epochs}, step: {i+1}/{total_steps}, loss={loss.item():.4f}')"
   ]
  },
  {
   "cell_type": "code",
   "execution_count": 37,
   "metadata": {},
   "outputs": [
    {
     "name": "stdout",
     "output_type": "stream",
     "text": [
      "Finished Training\n"
     ]
    }
   ],
   "source": [
    "print('Finished Training')\n",
    "PATH = './cnn.pth'\n",
    "torch.save(obj=model.state_dict(), f=PATH)"
   ]
  },
  {
   "cell_type": "code",
   "execution_count": 39,
   "metadata": {},
   "outputs": [
    {
     "name": "stdout",
     "output_type": "stream",
     "text": [
      "Accuracy of the network: 50.53%\n",
      "Accuracy of the class plane: 68.40%\n",
      "Accuracy of the class car: 73.40%\n",
      "Accuracy of the class bird: 33.50%\n",
      "Accuracy of the class cat: 34.70%\n",
      "Accuracy of the class deer: 31.30%\n",
      "Accuracy of the class dog: 33.90%\n",
      "Accuracy of the class frog: 73.30%\n",
      "Accuracy of the class horse: 52.30%\n",
      "Accuracy of the class ship: 52.50%\n",
      "Accuracy of the class truck: 52.00%\n"
     ]
    }
   ],
   "source": [
    "with torch.no_grad():\n",
    "    n_samples, n_correct = 0, 0\n",
    "    n_class_samples, n_class_correct = [0] * 10, [0] * 10\n",
    "    for i, (images, labels) in enumerate(test_loader):\n",
    "        y_pred_test_logits = model(images.to(device))\n",
    "        _, y_pred_test_labels = y_pred_test_logits.max(dim=1)\n",
    "        n_samples += labels.size(0)\n",
    "        n_correct += y_pred_test_labels.cpu().eq(labels).sum().item()\n",
    "\n",
    "        for l, p in zip(labels, y_pred_test_labels):\n",
    "            n_class_samples[l] += 1\n",
    "            n_class_correct[l] += int(l == p)\n",
    "\n",
    "print(f'Accuracy of the network: {n_correct / n_samples:.2%}')\n",
    "\n",
    "for i in range(10):\n",
    "    acc = n_class_correct[i] / n_class_samples[i]\n",
    "    print(f'Accuracy of the class {classes[i]}: {acc:.2%}')"
   ]
  },
  {
   "cell_type": "code",
   "execution_count": null,
   "metadata": {},
   "outputs": [],
   "source": []
  }
 ],
 "metadata": {
  "fileId": "a557d7a8-8100-48b9-812c-75325d421122",
  "filePath": "/mnt/bn/tob-lq/qianweishuo/pytorchTutorial/notebooks/13~14_chap.ipynb",
  "kernelspec": {
   "display_name": "Python 3 (ipykernel)",
   "language": "python",
   "name": "python3"
  }
 },
 "nbformat": 4,
 "nbformat_minor": 2
}

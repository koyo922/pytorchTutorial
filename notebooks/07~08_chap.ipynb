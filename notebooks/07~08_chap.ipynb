{
 "cells": [
  {
   "cell_type": "markdown",
   "metadata": {},
   "source": [
    "# chap 07"
   ]
  },
  {
   "cell_type": "code",
   "execution_count": 35,
   "metadata": {},
   "outputs": [
    {
     "name": "stdout",
     "output_type": "stream",
     "text": [
      "epoch #000: loss=5526.3237\n",
      "epoch #010: loss=3860.2285\n",
      "epoch #020: loss=2724.7783\n",
      "epoch #030: loss=1950.7968\n",
      "epoch #040: loss=1423.0964\n",
      "epoch #050: loss=1063.2358\n",
      "epoch #060: loss=817.7810\n",
      "epoch #070: loss=650.3268\n",
      "epoch #080: loss=536.0637\n",
      "epoch #090: loss=458.0806\n",
      "epoch #100: loss=404.8484\n",
      "epoch #110: loss=368.5045\n",
      "epoch #120: loss=343.6866\n",
      "epoch #130: loss=326.7366\n",
      "epoch #140: loss=315.1578\n",
      "epoch #150: loss=307.2471\n",
      "epoch #160: loss=301.8415\n",
      "epoch #170: loss=298.1471\n",
      "epoch #180: loss=295.6219\n",
      "epoch #190: loss=293.8955\n"
     ]
    }
   ],
   "source": [
    "import sklearn.datasets\n",
    "import torch\n",
    "\n",
    "X, y = sklearn.datasets.make_regression(n_samples=100, n_features=1, noise=20, random_state=4)\n",
    "X, y = torch.from_numpy(X).float(), torch.from_numpy(y).view(-1, 1).float()  # 注意跟model默认的weights保持同类型\n",
    "model = torch.nn.Linear(1, 1)\n",
    "criteria = torch.nn.MSELoss()\n",
    "optimizer = torch.optim.SGD(params=model.parameters(), lr=1e-2)  # 记得不是get_parameter()，要设置lr\n",
    "\n",
    "for epoch in range(200):\n",
    "    y_pred = model(X)\n",
    "    loss = criteria(y, y_pred)\n",
    "    loss.backward()\n",
    "    optimizer.step()\n",
    "    optimizer.zero_grad()\n",
    "    if epoch % 10 == 0:\n",
    "        print(f'epoch #{epoch:03}: loss={loss:.4f}')"
   ]
  },
  {
   "cell_type": "code",
   "execution_count": 36,
   "metadata": {},
   "outputs": [
    {
     "data": {
      "image/png": "[encoded data removed]",
      "text/plain": [
       "<Figure size 640x480 with 1 Axes>"
      ]
     },
     "metadata": {},
     "output_type": "display_data"
    }
   ],
   "source": [
    "import matplotlib.pyplot as plt\n",
    "\n",
    "y_pred = model(X).detach()\n",
    "plt.plot(X.numpy(), y.numpy(), 'ro')\n",
    "plt.plot(X.numpy(), y_pred.numpy(), 'b')\n",
    "plt.show()"
   ]
  },
  {
   "cell_type": "markdown",
   "metadata": {},
   "source": [
    "# chap 08"
   ]
  },
  {
   "cell_type": "code",
   "execution_count": 84,
   "metadata": {},
   "outputs": [],
   "source": [
    "import sklearn.model_selection\n",
    "\n",
    "bc = sklearn.datasets.load_breast_cancer()\n",
    "X, y = bc.data, bc.target\n",
    "\n",
    "X_train, X_test, y_train, y_test = sklearn.model_selection.train_test_split(X, y, test_size=0.2, random_state=1234)\n",
    "\n",
    "scaler = sklearn.preprocessing.StandardScaler()\n",
    "X_train = scaler.fit_transform(X_train)\n",
    "X_test = scaler.transform(X_test)\n",
    "y_train = y_train.reshape(-1, 1)\n",
    "y_test = y_test.reshape(-1, 1)\n",
    "\n",
    "X_train, X_test, y_train, y_test = (torch.from_numpy(e).float() for e in (X_train, X_test, y_train, y_test))"
   ]
  },
  {
   "cell_type": "code",
   "execution_count": 85,
   "metadata": {},
   "outputs": [
    {
     "name": "stdout",
     "output_type": "stream",
     "text": [
      "epoch #000: loss=0.4883\n",
      "epoch #010: loss=0.4118\n",
      "epoch #020: loss=0.3620\n",
      "epoch #030: loss=0.3267\n",
      "epoch #040: loss=0.3002\n",
      "epoch #050: loss=0.2794\n",
      "epoch #060: loss=0.2626\n",
      "epoch #070: loss=0.2486\n",
      "epoch #080: loss=0.2367\n",
      "epoch #090: loss=0.2265\n",
      "epoch #100: loss=0.2176\n",
      "epoch #110: loss=0.2098\n",
      "epoch #120: loss=0.2028\n",
      "epoch #130: loss=0.1965\n",
      "epoch #140: loss=0.1908\n",
      "epoch #150: loss=0.1856\n",
      "epoch #160: loss=0.1808\n",
      "epoch #170: loss=0.1765\n",
      "epoch #180: loss=0.1724\n",
      "epoch #190: loss=0.1687\n"
     ]
    }
   ],
   "source": [
    "class LogisticRegression(torch.nn.Module):\n",
    "    def __init__(self, dim: int) -> None:\n",
    "        super().__init__()\n",
    "        self.linear = torch.nn.Linear(dim, 1, bias=True)\n",
    "\n",
    "    def forward(self, X):\n",
    "        return torch.sigmoid(self.linear(X))\n",
    "\n",
    "\n",
    "model = LogisticRegression(dim=X_train.shape[1])\n",
    "criterion = torch.nn.BCELoss()\n",
    "optimizer = torch.optim.SGD(params=model.parameters(), lr=1e-2)\n",
    "\n",
    "for epoch in range(200):\n",
    "    y_pred = model(X_train)\n",
    "    loss = criterion(y_pred, y_train)  # 注意这里的顺序\n",
    "    loss.backward()\n",
    "    optimizer.step()\n",
    "    optimizer.zero_grad()\n",
    "    if epoch % 10 == 0:\n",
    "        print(f'epoch #{epoch:03}: loss={loss:.4f}')"
   ]
  },
  {
   "cell_type": "code",
   "execution_count": 86,
   "metadata": {},
   "outputs": [
    {
     "name": "stdout",
     "output_type": "stream",
     "text": [
      "accuracy: 92.98%\n"
     ]
    }
   ],
   "source": [
    "y_test_pred = model(X_test).detach().numpy()\n",
    "acc = (y_test_pred.round() == y_test.numpy()).mean()  # 注意 y_test后面要写.numpy()\n",
    "print(f'accuracy: {acc:.2%}')"
   ]
  },
  {
   "cell_type": "code",
   "execution_count": null,
   "metadata": {},
   "outputs": [],
   "source": []
  }
 ],
 "metadata": {
  "fileId": "a71e63fc-0a04-47a9-8618-f206c5bbfbdd",
  "filePath": "/mnt/bn/tob-lq/qianweishuo/pytorchTutorial/notebooks/01_Installation.ipynb",
  "kernelspec": {
   "display_name": "Merlin (Python3 + MLSQL) [Spark 3.2]",
   "language": "python",
   "name": "merlin_kernel"
  },
  "language_info": {
   "codemirror_mode": {
    "name": "ipython",
    "version": 3
   },
   "file_extension": ".py",
   "mimetype": "text/x-python",
   "name": "python",
   "nbconvert_exporter": "python",
   "pygments_lexer": "ipython3",
   "version": "3.9.2"
  }
 },
 "nbformat": 4,
 "nbformat_minor": 2
}
